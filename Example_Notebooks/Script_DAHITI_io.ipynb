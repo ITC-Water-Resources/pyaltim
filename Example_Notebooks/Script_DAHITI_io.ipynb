{
 "cells": [
  {
   "cell_type": "code",
   "execution_count": 1,
   "id": "3a44d2c1-df0f-4167-9e35-3dfd276cf60c",
   "metadata": {
    "tags": []
   },
   "outputs": [],
   "source": [
    "from pyaltim.io import dahiti\n",
    "import geopandas as gpd\n",
    "import glob\n",
    "import os"
   ]
  },
  {
   "cell_type": "markdown",
   "id": "d00758c6-3a13-4e07-9559-a8c01295554f",
   "metadata": {},
   "source": [
    "## Case: Lake Tana"
   ]
  },
  {
   "cell_type": "markdown",
   "id": "ffa73d8d-fa0d-4cfe-aa20-0210f6a3fa9b",
   "metadata": {},
   "source": [
    "The **download_DAHITI_stations** function takes two arguments. One is the folder path where data from DAHITI will be downloaded another is shapefile / geojson file of the Study Area. Geojson file of any area can be developed using this webapp: https://geojson.io/#map=9.35/24.5561/89.6891"
   ]
  },
  {
   "cell_type": "code",
   "execution_count": null,
   "id": "9edf8024-2659-4489-a1bf-5e928cc6e0e3",
   "metadata": {
    "tags": []
   },
   "outputs": [],
   "source": [
    "folder_Path = \"./Outputs/Lake_Tana\"\n",
    "ROI_Path = \"./Data/Lake_Tana.geojson\""
   ]
  },
  {
   "cell_type": "code",
   "execution_count": 3,
   "id": "7e7ddb68-37d6-49d8-9f8d-fd7f6213eeb3",
   "metadata": {
    "tags": []
   },
   "outputs": [
    {
     "name": "stdout",
     "output_type": "stream",
     "text": [
      "Obtain your API key from DAHITI: (https://dahiti.dgfi.tum.de/en/frequently-asked-questions/api-key/)\n"
     ]
    },
    {
     "name": "stdin",
     "output_type": "stream",
     "text": [
      "Enter your API key:  551185EE3E58A96674F863C05E1BC1713A611EDDE586E7B8F75AEA408C5E0038\n"
     ]
    },
    {
     "name": "stdout",
     "output_type": "stream",
     "text": [
      "Dataset(s) found: 1\n",
      "Downloading... 110 -> b'Tana, Lake' ( /home/jovyan/Temporary_Projects/XX_Thesis_Works/02_pyaltim_GITHUB/pyaltim/Example_Notebooks/Outputs/Lake_Tana/DAHITI_Raw/110.csv )\n"
     ]
    },
    {
     "data": {
      "text/html": [
       "<div>\n",
       "<style scoped>\n",
       "    .dataframe tbody tr th:only-of-type {\n",
       "        vertical-align: middle;\n",
       "    }\n",
       "\n",
       "    .dataframe tbody tr th {\n",
       "        vertical-align: top;\n",
       "    }\n",
       "\n",
       "    .dataframe thead th {\n",
       "        text-align: right;\n",
       "    }\n",
       "</style>\n",
       "<table border=\"1\" class=\"dataframe\">\n",
       "  <thead>\n",
       "    <tr style=\"text-align: right;\">\n",
       "      <th></th>\n",
       "      <th>Dahiti_ID</th>\n",
       "      <th>Longitude</th>\n",
       "      <th>Latitude</th>\n",
       "    </tr>\n",
       "  </thead>\n",
       "  <tbody>\n",
       "    <tr>\n",
       "      <th>0</th>\n",
       "      <td>110</td>\n",
       "      <td>37.3</td>\n",
       "      <td>11.95</td>\n",
       "    </tr>\n",
       "  </tbody>\n",
       "</table>\n",
       "</div>"
      ],
      "text/plain": [
       "   Dahiti_ID  Longitude  Latitude\n",
       "0        110       37.3     11.95"
      ]
     },
     "execution_count": 3,
     "metadata": {},
     "output_type": "execute_result"
    }
   ],
   "source": [
    "# dahiti.download_DAHITI_stations(\"./Outputs/Lake_Tana\",\"./Data/Lake_Tana.geojson\")\n",
    "dahiti.download_DAHITI_stations(folder_Path,ROI_Path)"
   ]
  },
  {
   "cell_type": "markdown",
   "id": "01ad0de1-df6a-4807-acec-c3e199db8163",
   "metadata": {},
   "source": [
    "**update_metadata_DAHITI** function takes one argument as input which is *the folder directory* which was used earlier to download DAHITI station records. Using those downloaded files, this function creates a metadata file which portray an overall observation of the downloaded data. The metadata csv includes data about virtual stations latitude, longitude, min - max data records and its associate datatime."
   ]
  },
  {
   "cell_type": "code",
   "execution_count": 4,
   "id": "e871f2cc-55c0-4660-a06a-0b387002e308",
   "metadata": {},
   "outputs": [],
   "source": [
    "metadata_file = \"./Outputs/Lake_Tana/DAHITI_Processed/00_DAHITI_metadata_v0.csv\"\n",
    "rawdata_folder = \"./Outputs/Lake_Tana/DAHITI_Raw/\""
   ]
  },
  {
   "cell_type": "code",
   "execution_count": 6,
   "id": "440a41f9-0f7b-464d-acf4-14508e83139a",
   "metadata": {},
   "outputs": [
    {
     "data": {
      "text/html": [
       "<div>\n",
       "<style scoped>\n",
       "    .dataframe tbody tr th:only-of-type {\n",
       "        vertical-align: middle;\n",
       "    }\n",
       "\n",
       "    .dataframe tbody tr th {\n",
       "        vertical-align: top;\n",
       "    }\n",
       "\n",
       "    .dataframe thead th {\n",
       "        text-align: right;\n",
       "    }\n",
       "</style>\n",
       "<table border=\"1\" class=\"dataframe\">\n",
       "  <thead>\n",
       "    <tr style=\"text-align: right;\">\n",
       "      <th></th>\n",
       "      <th>Dahiti_ID</th>\n",
       "      <th>Longitude</th>\n",
       "      <th>Latitude</th>\n",
       "      <th>oldest_date</th>\n",
       "      <th>latest_date</th>\n",
       "      <th>Min_Height</th>\n",
       "      <th>MinHeight_Datetime</th>\n",
       "      <th>MinHeight_Error</th>\n",
       "      <th>Max_Height</th>\n",
       "      <th>MaxHeight_Datetime</th>\n",
       "      <th>MaxHeight_Error</th>\n",
       "    </tr>\n",
       "  </thead>\n",
       "  <tbody>\n",
       "    <tr>\n",
       "      <th>0</th>\n",
       "      <td>110</td>\n",
       "      <td>37.3</td>\n",
       "      <td>11.95</td>\n",
       "      <td>1992-09-26 19:10:13</td>\n",
       "      <td>2024-04-12 07:38:05</td>\n",
       "      <td>1784.765</td>\n",
       "      <td>2003-06-18 00:00:00</td>\n",
       "      <td>0.0</td>\n",
       "      <td>1788.458</td>\n",
       "      <td>2020-09-20 19:23:58</td>\n",
       "      <td>0.003</td>\n",
       "    </tr>\n",
       "  </tbody>\n",
       "</table>\n",
       "</div>"
      ],
      "text/plain": [
       "  Dahiti_ID  Longitude  Latitude          oldest_date          latest_date  \\\n",
       "0       110       37.3     11.95  1992-09-26 19:10:13  2024-04-12 07:38:05   \n",
       "\n",
       "   Min_Height   MinHeight_Datetime  MinHeight_Error  Max_Height  \\\n",
       "0    1784.765  2003-06-18 00:00:00              0.0    1788.458   \n",
       "\n",
       "    MaxHeight_Datetime  MaxHeight_Error  \n",
       "0  2020-09-20 19:23:58            0.003  "
      ]
     },
     "execution_count": 6,
     "metadata": {},
     "output_type": "execute_result"
    }
   ],
   "source": [
    "DF = dahiti.update_metadata_DAHITI(metadata_file, rawdata_folder)\n",
    "DF"
   ]
  },
  {
   "cell_type": "code",
   "execution_count": 7,
   "id": "65109d8b-2c24-44f8-b4bb-72f69b592070",
   "metadata": {},
   "outputs": [],
   "source": [
    "gdf = gpd.GeoDataFrame(DF, geometry=gpd.points_from_xy(DF['Longitude'], DF['Latitude']))"
   ]
  },
  {
   "cell_type": "code",
   "execution_count": 8,
   "id": "96569ed6-fca2-4afb-b069-204a002c283e",
   "metadata": {},
   "outputs": [
    {
     "data": {
      "text/plain": [
       "<AxesSubplot: >"
      ]
     },
     "execution_count": 8,
     "metadata": {},
     "output_type": "execute_result"
    },
    {
     "data": {
      "image/png": "[encoded data removed]",
      "text/plain": [
       "<Figure size 640x480 with 1 Axes>"
      ]
     },
     "metadata": {},
     "output_type": "display_data"
    }
   ],
   "source": [
    "gdf.plot()"
   ]
  },
  {
   "cell_type": "code",
   "execution_count": 9,
   "id": "6a78d3f0-a0ed-4fec-812e-55b916f3e90a",
   "metadata": {},
   "outputs": [
    {
     "data": {
      "text/html": [
       "<div>\n",
       "<style scoped>\n",
       "    .dataframe tbody tr th:only-of-type {\n",
       "        vertical-align: middle;\n",
       "    }\n",
       "\n",
       "    .dataframe tbody tr th {\n",
       "        vertical-align: top;\n",
       "    }\n",
       "\n",
       "    .dataframe thead th {\n",
       "        text-align: right;\n",
       "    }\n",
       "</style>\n",
       "<table border=\"1\" class=\"dataframe\">\n",
       "  <thead>\n",
       "    <tr style=\"text-align: right;\">\n",
       "      <th></th>\n",
       "      <th>Dahiti_ID</th>\n",
       "      <th>Longitude</th>\n",
       "      <th>Latitude</th>\n",
       "      <th>oldest_date</th>\n",
       "      <th>latest_date</th>\n",
       "      <th>Min_Height</th>\n",
       "      <th>MinHeight_Datetime</th>\n",
       "      <th>MinHeight_Error</th>\n",
       "      <th>Max_Height</th>\n",
       "      <th>MaxHeight_Datetime</th>\n",
       "      <th>MaxHeight_Error</th>\n",
       "      <th>geometry</th>\n",
       "    </tr>\n",
       "  </thead>\n",
       "  <tbody>\n",
       "    <tr>\n",
       "      <th>0</th>\n",
       "      <td>110</td>\n",
       "      <td>37.3</td>\n",
       "      <td>11.95</td>\n",
       "      <td>1992-09-26 19:10:13</td>\n",
       "      <td>2024-04-12 07:38:05</td>\n",
       "      <td>1784.765</td>\n",
       "      <td>2003-06-18 00:00:00</td>\n",
       "      <td>0.0</td>\n",
       "      <td>1788.458</td>\n",
       "      <td>2020-09-20 19:23:58</td>\n",
       "      <td>0.003</td>\n",
       "      <td>POINT (37.30000 11.95000)</td>\n",
       "    </tr>\n",
       "  </tbody>\n",
       "</table>\n",
       "</div>"
      ],
      "text/plain": [
       "  Dahiti_ID  Longitude  Latitude          oldest_date          latest_date  \\\n",
       "0       110       37.3     11.95  1992-09-26 19:10:13  2024-04-12 07:38:05   \n",
       "\n",
       "   Min_Height   MinHeight_Datetime  MinHeight_Error  Max_Height  \\\n",
       "0    1784.765  2003-06-18 00:00:00              0.0    1788.458   \n",
       "\n",
       "    MaxHeight_Datetime  MaxHeight_Error                   geometry  \n",
       "0  2020-09-20 19:23:58            0.003  POINT (37.30000 11.95000)  "
      ]
     },
     "execution_count": 9,
     "metadata": {},
     "output_type": "execute_result"
    }
   ],
   "source": [
    "gdf.head()"
   ]
  },
  {
   "cell_type": "markdown",
   "id": "dbf53a84-273a-4b56-9dba-292a72ccbc4a",
   "metadata": {},
   "source": [
    "## Case: Ganges - Brahmaputra - Meghna (GBM) Basin"
   ]
  },
  {
   "cell_type": "code",
   "execution_count": 10,
   "id": "81cd9c6f-22e9-4a23-9b5f-bf167ec783fb",
   "metadata": {
    "tags": []
   },
   "outputs": [],
   "source": [
    "folder_Path = \"./Outputs/GBM_Basin\"\n",
    "ROI_Path = \"./Data/GBM_Basin.geojson\""
   ]
  },
  {
   "cell_type": "code",
   "execution_count": 11,
   "id": "a4409bf1-b2e5-4174-9284-a4ba3d019c47",
   "metadata": {
    "tags": []
   },
   "outputs": [
    {
     "name": "stdout",
     "output_type": "stream",
     "text": [
      "Obtain your API key from DAHITI: (https://dahiti.dgfi.tum.de/en/frequently-asked-questions/api-key/)\n"
     ]
    },
    {
     "name": "stdin",
     "output_type": "stream",
     "text": [
      "Enter your API key:  551185EE3E58A96674F863C05E1BC1713A611EDDE586E7B8F75AEA408C5E0038\n"
     ]
    },
    {
     "name": "stdout",
     "output_type": "stream",
     "text": [
      "Dataset(s) found: 9\n",
      "Downloading... 22162 -> b'Banar, River' ( /home/jovyan/Temporary_Projects/XX_Thesis_Works/02_pyaltim_GITHUB/pyaltim/Example_Notebooks/Outputs/GBM_Basin/DAHITI_Raw/22162.csv )\n",
      "Downloading... 10888 -> b'Brahmaputra, River' ( /home/jovyan/Temporary_Projects/XX_Thesis_Works/02_pyaltim_GITHUB/pyaltim/Example_Notebooks/Outputs/GBM_Basin/DAHITI_Raw/10888.csv )\n",
      "Downloading... 10889 -> b'Brahmaputra, River' ( /home/jovyan/Temporary_Projects/XX_Thesis_Works/02_pyaltim_GITHUB/pyaltim/Example_Notebooks/Outputs/GBM_Basin/DAHITI_Raw/10889.csv )\n",
      "Downloading... 17217 -> b'Ganges, River' ( /home/jovyan/Temporary_Projects/XX_Thesis_Works/02_pyaltim_GITHUB/pyaltim/Example_Notebooks/Outputs/GBM_Basin/DAHITI_Raw/17217.csv )\n",
      "Downloading... 11161 -> b'Kalni, River' ( /home/jovyan/Temporary_Projects/XX_Thesis_Works/02_pyaltim_GITHUB/pyaltim/Example_Notebooks/Outputs/GBM_Basin/DAHITI_Raw/11161.csv )\n",
      "Downloading... 11194 -> b'Kushiyara, River' ( /home/jovyan/Temporary_Projects/XX_Thesis_Works/02_pyaltim_GITHUB/pyaltim/Example_Notebooks/Outputs/GBM_Basin/DAHITI_Raw/11194.csv )\n",
      "Downloading... 11198 -> b'Kushiyara, River' ( /home/jovyan/Temporary_Projects/XX_Thesis_Works/02_pyaltim_GITHUB/pyaltim/Example_Notebooks/Outputs/GBM_Basin/DAHITI_Raw/11198.csv )\n",
      "Downloading... 13084 -> b'Meghna, River' ( /home/jovyan/Temporary_Projects/XX_Thesis_Works/02_pyaltim_GITHUB/pyaltim/Example_Notebooks/Outputs/GBM_Basin/DAHITI_Raw/13084.csv )\n",
      "Downloading... 22142 -> b'Meghna, River' ( /home/jovyan/Temporary_Projects/XX_Thesis_Works/02_pyaltim_GITHUB/pyaltim/Example_Notebooks/Outputs/GBM_Basin/DAHITI_Raw/22142.csv )\n"
     ]
    },
    {
     "data": {
      "text/html": [
       "<div>\n",
       "<style scoped>\n",
       "    .dataframe tbody tr th:only-of-type {\n",
       "        vertical-align: middle;\n",
       "    }\n",
       "\n",
       "    .dataframe tbody tr th {\n",
       "        vertical-align: top;\n",
       "    }\n",
       "\n",
       "    .dataframe thead th {\n",
       "        text-align: right;\n",
       "    }\n",
       "</style>\n",
       "<table border=\"1\" class=\"dataframe\">\n",
       "  <thead>\n",
       "    <tr style=\"text-align: right;\">\n",
       "      <th></th>\n",
       "      <th>Dahiti_ID</th>\n",
       "      <th>Longitude</th>\n",
       "      <th>Latitude</th>\n",
       "    </tr>\n",
       "  </thead>\n",
       "  <tbody>\n",
       "    <tr>\n",
       "      <th>0</th>\n",
       "      <td>22162</td>\n",
       "      <td>90.5125</td>\n",
       "      <td>23.7753</td>\n",
       "    </tr>\n",
       "    <tr>\n",
       "      <th>1</th>\n",
       "      <td>10888</td>\n",
       "      <td>89.7688</td>\n",
       "      <td>24.1398</td>\n",
       "    </tr>\n",
       "    <tr>\n",
       "      <th>2</th>\n",
       "      <td>10889</td>\n",
       "      <td>89.7436</td>\n",
       "      <td>24.0488</td>\n",
       "    </tr>\n",
       "    <tr>\n",
       "      <th>3</th>\n",
       "      <td>17217</td>\n",
       "      <td>89.8148</td>\n",
       "      <td>23.7638</td>\n",
       "    </tr>\n",
       "    <tr>\n",
       "      <th>4</th>\n",
       "      <td>11161</td>\n",
       "      <td>91.2447</td>\n",
       "      <td>24.5760</td>\n",
       "    </tr>\n",
       "    <tr>\n",
       "      <th>5</th>\n",
       "      <td>11194</td>\n",
       "      <td>91.7702</td>\n",
       "      <td>24.6196</td>\n",
       "    </tr>\n",
       "    <tr>\n",
       "      <th>6</th>\n",
       "      <td>11198</td>\n",
       "      <td>91.4632</td>\n",
       "      <td>24.6876</td>\n",
       "    </tr>\n",
       "    <tr>\n",
       "      <th>7</th>\n",
       "      <td>13084</td>\n",
       "      <td>90.9214</td>\n",
       "      <td>23.9720</td>\n",
       "    </tr>\n",
       "    <tr>\n",
       "      <th>8</th>\n",
       "      <td>22142</td>\n",
       "      <td>90.7793</td>\n",
       "      <td>23.8660</td>\n",
       "    </tr>\n",
       "  </tbody>\n",
       "</table>\n",
       "</div>"
      ],
      "text/plain": [
       "   Dahiti_ID  Longitude  Latitude\n",
       "0      22162    90.5125   23.7753\n",
       "1      10888    89.7688   24.1398\n",
       "2      10889    89.7436   24.0488\n",
       "3      17217    89.8148   23.7638\n",
       "4      11161    91.2447   24.5760\n",
       "5      11194    91.7702   24.6196\n",
       "6      11198    91.4632   24.6876\n",
       "7      13084    90.9214   23.9720\n",
       "8      22142    90.7793   23.8660"
      ]
     },
     "execution_count": 11,
     "metadata": {},
     "output_type": "execute_result"
    }
   ],
   "source": [
    "dahiti.download_DAHITI_stations(folder_Path,ROI_Path)"
   ]
  },
  {
   "cell_type": "code",
   "execution_count": 12,
   "id": "a6eb282a-2319-4552-a3c4-c8c63bae09d0",
   "metadata": {},
   "outputs": [],
   "source": [
    "metadata_file = \"./Outputs/GBM_Basin/DAHITI_Processed/00_DAHITI_metadata_v0.csv\"\n",
    "rawdata_folder = \"./Outputs/GBM_Basin/DAHITI_Raw/\""
   ]
  },
  {
   "cell_type": "code",
   "execution_count": 13,
   "id": "5d8a7f97-86f2-4c1d-bcda-b1837015752e",
   "metadata": {
    "tags": []
   },
   "outputs": [
    {
     "data": {
      "text/html": [
       "<div>\n",
       "<style scoped>\n",
       "    .dataframe tbody tr th:only-of-type {\n",
       "        vertical-align: middle;\n",
       "    }\n",
       "\n",
       "    .dataframe tbody tr th {\n",
       "        vertical-align: top;\n",
       "    }\n",
       "\n",
       "    .dataframe thead th {\n",
       "        text-align: right;\n",
       "    }\n",
       "</style>\n",
       "<table border=\"1\" class=\"dataframe\">\n",
       "  <thead>\n",
       "    <tr style=\"text-align: right;\">\n",
       "      <th></th>\n",
       "      <th>Dahiti_ID</th>\n",
       "      <th>Longitude</th>\n",
       "      <th>Latitude</th>\n",
       "      <th>oldest_date</th>\n",
       "      <th>latest_date</th>\n",
       "      <th>Min_Height</th>\n",
       "      <th>MinHeight_Datetime</th>\n",
       "      <th>MinHeight_Error</th>\n",
       "      <th>Max_Height</th>\n",
       "      <th>MaxHeight_Datetime</th>\n",
       "      <th>MaxHeight_Error</th>\n",
       "    </tr>\n",
       "  </thead>\n",
       "  <tbody>\n",
       "    <tr>\n",
       "      <th>0</th>\n",
       "      <td>22162</td>\n",
       "      <td>90.5125</td>\n",
       "      <td>23.7753</td>\n",
       "      <td>2016-05-08 15:42:36</td>\n",
       "      <td>2024-02-11 15:42:55</td>\n",
       "      <td>0.744</td>\n",
       "      <td>2022-03-11 15:42:58</td>\n",
       "      <td>0.015</td>\n",
       "      <td>5.376</td>\n",
       "      <td>2020-07-25 15:42:55</td>\n",
       "      <td>0.000</td>\n",
       "    </tr>\n",
       "    <tr>\n",
       "      <th>1</th>\n",
       "      <td>10888</td>\n",
       "      <td>89.7688</td>\n",
       "      <td>24.1398</td>\n",
       "      <td>2002-06-17 04:16:26</td>\n",
       "      <td>2016-06-15 12:18:25</td>\n",
       "      <td>4.011</td>\n",
       "      <td>2003-02-17 04:16:20</td>\n",
       "      <td>0.004</td>\n",
       "      <td>12.323</td>\n",
       "      <td>2004-07-26 04:16:35</td>\n",
       "      <td>0.002</td>\n",
       "    </tr>\n",
       "    <tr>\n",
       "      <th>2</th>\n",
       "      <td>10889</td>\n",
       "      <td>89.7436</td>\n",
       "      <td>24.0488</td>\n",
       "      <td>2002-06-17 04:16:28</td>\n",
       "      <td>2016-05-11 12:18:54</td>\n",
       "      <td>3.446</td>\n",
       "      <td>2003-01-13 04:16:22</td>\n",
       "      <td>0.017</td>\n",
       "      <td>11.876</td>\n",
       "      <td>2004-07-26 04:16:36</td>\n",
       "      <td>0.000</td>\n",
       "    </tr>\n",
       "    <tr>\n",
       "      <th>3</th>\n",
       "      <td>17217</td>\n",
       "      <td>89.8148</td>\n",
       "      <td>23.7638</td>\n",
       "      <td>2018-12-12 04:15:43</td>\n",
       "      <td>2024-04-08 04:16:30</td>\n",
       "      <td>1.965</td>\n",
       "      <td>2019-01-08 04:15:47</td>\n",
       "      <td>0.291</td>\n",
       "      <td>8.541</td>\n",
       "      <td>2020-08-24 04:16:00</td>\n",
       "      <td>0.155</td>\n",
       "    </tr>\n",
       "    <tr>\n",
       "      <th>4</th>\n",
       "      <td>11161</td>\n",
       "      <td>91.2447</td>\n",
       "      <td>24.5760</td>\n",
       "      <td>2016-04-15 15:39:03</td>\n",
       "      <td>2023-12-23 15:39:23</td>\n",
       "      <td>1.702</td>\n",
       "      <td>2021-04-25 15:39:29</td>\n",
       "      <td>0.410</td>\n",
       "      <td>6.950</td>\n",
       "      <td>2022-07-01 15:39:30</td>\n",
       "      <td>0.361</td>\n",
       "    </tr>\n",
       "    <tr>\n",
       "      <th>5</th>\n",
       "      <td>11194</td>\n",
       "      <td>91.7702</td>\n",
       "      <td>24.6196</td>\n",
       "      <td>2008-07-18 12:15:11</td>\n",
       "      <td>2024-02-27 00:09:30</td>\n",
       "      <td>3.364</td>\n",
       "      <td>2022-03-24 23:54:02</td>\n",
       "      <td>0.005</td>\n",
       "      <td>9.542</td>\n",
       "      <td>2016-07-21 15:00:27</td>\n",
       "      <td>0.027</td>\n",
       "    </tr>\n",
       "    <tr>\n",
       "      <th>6</th>\n",
       "      <td>11198</td>\n",
       "      <td>91.4632</td>\n",
       "      <td>24.6876</td>\n",
       "      <td>2002-07-12 15:38:28</td>\n",
       "      <td>2010-10-08 15:38:10</td>\n",
       "      <td>4.001</td>\n",
       "      <td>2003-03-14 15:38:27</td>\n",
       "      <td>0.039</td>\n",
       "      <td>7.365</td>\n",
       "      <td>2004-07-16 15:38:37</td>\n",
       "      <td>0.000</td>\n",
       "    </tr>\n",
       "    <tr>\n",
       "      <th>7</th>\n",
       "      <td>13084</td>\n",
       "      <td>90.9214</td>\n",
       "      <td>23.9720</td>\n",
       "      <td>2002-07-31 15:41:08</td>\n",
       "      <td>2016-05-20 23:43:30</td>\n",
       "      <td>1.426</td>\n",
       "      <td>2007-01-31 15:41:07</td>\n",
       "      <td>0.015</td>\n",
       "      <td>6.845</td>\n",
       "      <td>2004-08-04 15:41:18</td>\n",
       "      <td>0.026</td>\n",
       "    </tr>\n",
       "    <tr>\n",
       "      <th>8</th>\n",
       "      <td>22142</td>\n",
       "      <td>90.7793</td>\n",
       "      <td>23.8660</td>\n",
       "      <td>2018-12-16 04:11:58</td>\n",
       "      <td>2024-04-12 04:12:44</td>\n",
       "      <td>0.972</td>\n",
       "      <td>2020-03-19 04:12:03</td>\n",
       "      <td>0.001</td>\n",
       "      <td>5.245</td>\n",
       "      <td>2020-08-01 04:12:13</td>\n",
       "      <td>0.001</td>\n",
       "    </tr>\n",
       "  </tbody>\n",
       "</table>\n",
       "</div>"
      ],
      "text/plain": [
       "  Dahiti_ID  Longitude  Latitude          oldest_date          latest_date  \\\n",
       "0     22162    90.5125   23.7753  2016-05-08 15:42:36  2024-02-11 15:42:55   \n",
       "1     10888    89.7688   24.1398  2002-06-17 04:16:26  2016-06-15 12:18:25   \n",
       "2     10889    89.7436   24.0488  2002-06-17 04:16:28  2016-05-11 12:18:54   \n",
       "3     17217    89.8148   23.7638  2018-12-12 04:15:43  2024-04-08 04:16:30   \n",
       "4     11161    91.2447   24.5760  2016-04-15 15:39:03  2023-12-23 15:39:23   \n",
       "5     11194    91.7702   24.6196  2008-07-18 12:15:11  2024-02-27 00:09:30   \n",
       "6     11198    91.4632   24.6876  2002-07-12 15:38:28  2010-10-08 15:38:10   \n",
       "7     13084    90.9214   23.9720  2002-07-31 15:41:08  2016-05-20 23:43:30   \n",
       "8     22142    90.7793   23.8660  2018-12-16 04:11:58  2024-04-12 04:12:44   \n",
       "\n",
       "   Min_Height   MinHeight_Datetime  MinHeight_Error  Max_Height  \\\n",
       "0       0.744  2022-03-11 15:42:58            0.015       5.376   \n",
       "1       4.011  2003-02-17 04:16:20            0.004      12.323   \n",
       "2       3.446  2003-01-13 04:16:22            0.017      11.876   \n",
       "3       1.965  2019-01-08 04:15:47            0.291       8.541   \n",
       "4       1.702  2021-04-25 15:39:29            0.410       6.950   \n",
       "5       3.364  2022-03-24 23:54:02            0.005       9.542   \n",
       "6       4.001  2003-03-14 15:38:27            0.039       7.365   \n",
       "7       1.426  2007-01-31 15:41:07            0.015       6.845   \n",
       "8       0.972  2020-03-19 04:12:03            0.001       5.245   \n",
       "\n",
       "    MaxHeight_Datetime  MaxHeight_Error  \n",
       "0  2020-07-25 15:42:55            0.000  \n",
       "1  2004-07-26 04:16:35            0.002  \n",
       "2  2004-07-26 04:16:36            0.000  \n",
       "3  2020-08-24 04:16:00            0.155  \n",
       "4  2022-07-01 15:39:30            0.361  \n",
       "5  2016-07-21 15:00:27            0.027  \n",
       "6  2004-07-16 15:38:37            0.000  \n",
       "7  2004-08-04 15:41:18            0.026  \n",
       "8  2020-08-01 04:12:13            0.001  "
      ]
     },
     "execution_count": 13,
     "metadata": {},
     "output_type": "execute_result"
    }
   ],
   "source": [
    "DF = dahiti.update_metadata_DAHITI(metadata_file, rawdata_folder)\n",
    "DF"
   ]
  },
  {
   "cell_type": "code",
   "execution_count": 14,
   "id": "d955da81-cc8d-481a-b72a-fd46d5b5f87c",
   "metadata": {},
   "outputs": [],
   "source": [
    "gdf = gpd.GeoDataFrame(DF, geometry=gpd.points_from_xy(DF['Longitude'], DF['Latitude']))"
   ]
  },
  {
   "cell_type": "code",
   "execution_count": 15,
   "id": "177eda68-e9f3-4e68-a8e2-2010db6025f7",
   "metadata": {},
   "outputs": [
    {
     "data": {
      "text/plain": [
       "<AxesSubplot: >"
      ]
     },
     "execution_count": 15,
     "metadata": {},
     "output_type": "execute_result"
    },
    {
     "data": {
      "image/png": "[encoded data removed]",
      "text/plain": [
       "<Figure size 640x480 with 1 Axes>"
      ]
     },
     "metadata": {},
     "output_type": "display_data"
    }
   ],
   "source": [
    "gdf.plot()"
   ]
  },
  {
   "cell_type": "code",
   "execution_count": 16,
   "id": "2de50bed-6a97-4ca0-bd66-aea358645542",
   "metadata": {},
   "outputs": [
    {
     "data": {
      "text/html": [
       "<div>\n",
       "<style scoped>\n",
       "    .dataframe tbody tr th:only-of-type {\n",
       "        vertical-align: middle;\n",
       "    }\n",
       "\n",
       "    .dataframe tbody tr th {\n",
       "        vertical-align: top;\n",
       "    }\n",
       "\n",
       "    .dataframe thead th {\n",
       "        text-align: right;\n",
       "    }\n",
       "</style>\n",
       "<table border=\"1\" class=\"dataframe\">\n",
       "  <thead>\n",
       "    <tr style=\"text-align: right;\">\n",
       "      <th></th>\n",
       "      <th>Dahiti_ID</th>\n",
       "      <th>Longitude</th>\n",
       "      <th>Latitude</th>\n",
       "      <th>oldest_date</th>\n",
       "      <th>latest_date</th>\n",
       "      <th>Min_Height</th>\n",
       "      <th>MinHeight_Datetime</th>\n",
       "      <th>MinHeight_Error</th>\n",
       "      <th>Max_Height</th>\n",
       "      <th>MaxHeight_Datetime</th>\n",
       "      <th>MaxHeight_Error</th>\n",
       "      <th>geometry</th>\n",
       "    </tr>\n",
       "  </thead>\n",
       "  <tbody>\n",
       "    <tr>\n",
       "      <th>0</th>\n",
       "      <td>22162</td>\n",
       "      <td>90.5125</td>\n",
       "      <td>23.7753</td>\n",
       "      <td>2016-05-08 15:42:36</td>\n",
       "      <td>2024-02-11 15:42:55</td>\n",
       "      <td>0.744</td>\n",
       "      <td>2022-03-11 15:42:58</td>\n",
       "      <td>0.015</td>\n",
       "      <td>5.376</td>\n",
       "      <td>2020-07-25 15:42:55</td>\n",
       "      <td>0.000</td>\n",
       "      <td>POINT (90.51250 23.77530)</td>\n",
       "    </tr>\n",
       "    <tr>\n",
       "      <th>1</th>\n",
       "      <td>10888</td>\n",
       "      <td>89.7688</td>\n",
       "      <td>24.1398</td>\n",
       "      <td>2002-06-17 04:16:26</td>\n",
       "      <td>2016-06-15 12:18:25</td>\n",
       "      <td>4.011</td>\n",
       "      <td>2003-02-17 04:16:20</td>\n",
       "      <td>0.004</td>\n",
       "      <td>12.323</td>\n",
       "      <td>2004-07-26 04:16:35</td>\n",
       "      <td>0.002</td>\n",
       "      <td>POINT (89.76880 24.13980)</td>\n",
       "    </tr>\n",
       "    <tr>\n",
       "      <th>2</th>\n",
       "      <td>10889</td>\n",
       "      <td>89.7436</td>\n",
       "      <td>24.0488</td>\n",
       "      <td>2002-06-17 04:16:28</td>\n",
       "      <td>2016-05-11 12:18:54</td>\n",
       "      <td>3.446</td>\n",
       "      <td>2003-01-13 04:16:22</td>\n",
       "      <td>0.017</td>\n",
       "      <td>11.876</td>\n",
       "      <td>2004-07-26 04:16:36</td>\n",
       "      <td>0.000</td>\n",
       "      <td>POINT (89.74360 24.04880)</td>\n",
       "    </tr>\n",
       "    <tr>\n",
       "      <th>3</th>\n",
       "      <td>17217</td>\n",
       "      <td>89.8148</td>\n",
       "      <td>23.7638</td>\n",
       "      <td>2018-12-12 04:15:43</td>\n",
       "      <td>2024-04-08 04:16:30</td>\n",
       "      <td>1.965</td>\n",
       "      <td>2019-01-08 04:15:47</td>\n",
       "      <td>0.291</td>\n",
       "      <td>8.541</td>\n",
       "      <td>2020-08-24 04:16:00</td>\n",
       "      <td>0.155</td>\n",
       "      <td>POINT (89.81480 23.76380)</td>\n",
       "    </tr>\n",
       "    <tr>\n",
       "      <th>4</th>\n",
       "      <td>11161</td>\n",
       "      <td>91.2447</td>\n",
       "      <td>24.5760</td>\n",
       "      <td>2016-04-15 15:39:03</td>\n",
       "      <td>2023-12-23 15:39:23</td>\n",
       "      <td>1.702</td>\n",
       "      <td>2021-04-25 15:39:29</td>\n",
       "      <td>0.410</td>\n",
       "      <td>6.950</td>\n",
       "      <td>2022-07-01 15:39:30</td>\n",
       "      <td>0.361</td>\n",
       "      <td>POINT (91.24470 24.57600)</td>\n",
       "    </tr>\n",
       "  </tbody>\n",
       "</table>\n",
       "</div>"
      ],
      "text/plain": [
       "  Dahiti_ID  Longitude  Latitude          oldest_date          latest_date  \\\n",
       "0     22162    90.5125   23.7753  2016-05-08 15:42:36  2024-02-11 15:42:55   \n",
       "1     10888    89.7688   24.1398  2002-06-17 04:16:26  2016-06-15 12:18:25   \n",
       "2     10889    89.7436   24.0488  2002-06-17 04:16:28  2016-05-11 12:18:54   \n",
       "3     17217    89.8148   23.7638  2018-12-12 04:15:43  2024-04-08 04:16:30   \n",
       "4     11161    91.2447   24.5760  2016-04-15 15:39:03  2023-12-23 15:39:23   \n",
       "\n",
       "   Min_Height   MinHeight_Datetime  MinHeight_Error  Max_Height  \\\n",
       "0       0.744  2022-03-11 15:42:58            0.015       5.376   \n",
       "1       4.011  2003-02-17 04:16:20            0.004      12.323   \n",
       "2       3.446  2003-01-13 04:16:22            0.017      11.876   \n",
       "3       1.965  2019-01-08 04:15:47            0.291       8.541   \n",
       "4       1.702  2021-04-25 15:39:29            0.410       6.950   \n",
       "\n",
       "    MaxHeight_Datetime  MaxHeight_Error                   geometry  \n",
       "0  2020-07-25 15:42:55            0.000  POINT (90.51250 23.77530)  \n",
       "1  2004-07-26 04:16:35            0.002  POINT (89.76880 24.13980)  \n",
       "2  2004-07-26 04:16:36            0.000  POINT (89.74360 24.04880)  \n",
       "3  2020-08-24 04:16:00            0.155  POINT (89.81480 23.76380)  \n",
       "4  2022-07-01 15:39:30            0.361  POINT (91.24470 24.57600)  "
      ]
     },
     "execution_count": 16,
     "metadata": {},
     "output_type": "execute_result"
    }
   ],
   "source": [
    "gdf.head()"
   ]
  },
  {
   "cell_type": "code",
   "execution_count": null,
   "id": "387bc9cc-026d-4a9b-b5f8-c6a6db44e67e",
   "metadata": {},
   "outputs": [],
   "source": []
  }
 ],
 "metadata": {
  "kernelspec": {
   "display_name": "venvPyaltim",
   "language": "python",
   "name": "venvpyaltim"
  },
  "language_info": {
   "codemirror_mode": {
    "name": "ipython",
    "version": 3
   },
   "file_extension": ".py",
   "mimetype": "text/x-python",
   "name": "python",
   "nbconvert_exporter": "python",
   "pygments_lexer": "ipython3",
   "version": "3.8.10"
  }
 },
 "nbformat": 4,
 "nbformat_minor": 5
}
