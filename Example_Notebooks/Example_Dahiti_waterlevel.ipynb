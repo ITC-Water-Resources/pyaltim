{
 "cells": [
  {
   "cell_type": "code",
   "execution_count": 1,
   "id": "3a44d2c1-df0f-4167-9e35-3dfd276cf60c",
   "metadata": {},
   "outputs": [
    {
     "name": "stderr",
     "output_type": "stream",
     "text": [
      "/usr/lib/python3.12/site-packages/pyproj/__init__.py:91: UserWarning: Valid PROJ data directory not found. Either set the path using the environmental variable PROJ_DATA (PROJ 9.1+) | PROJ_LIB (PROJ<9.1) or with `pyproj.datadir.set_data_dir`.\n",
      "  warnings.warn(str(err))\n"
     ]
    }
   ],
   "source": [
    "from pyaltim.portals.dahiti import DahitiConnect\n",
    "import shapely"
   ]
  },
  {
   "cell_type": "markdown",
   "id": "d00758c6-3a13-4e07-9559-a8c01295554f",
   "metadata": {},
   "source": [
    "## Case: Lake Tana"
   ]
  },
  {
   "cell_type": "markdown",
   "id": "ffa73d8d-fa0d-4cfe-aa20-0210f6a3fa9b",
   "metadata": {},
   "source": [
    "##### Load the polygon for Lake Tana as a shapely object\n",
    "A Geojson file of any area can be developed using this webapp: https://geojson.io/#map=9.35/24.5561/89.6891"
   ]
  },
  {
   "cell_type": "code",
   "execution_count": 3,
   "id": "7e7ddb68-37d6-49d8-9f8d-fd7f6213eeb3",
   "metadata": {
    "tags": []
   },
   "outputs": [
    {
     "data": {
      "image/svg+xml": [
       "<svg xmlns=\"http://www.w3.org/2000/svg\" xmlns:xlink=\"http://www.w3.org/1999/xlink\" width=\"100.0\" height=\"100.0\" viewBox=\"36.81320436537297 11.50646481470747 0.8595378377276006 0.867206223503544\" preserveAspectRatio=\"xMinYMin meet\"><g transform=\"matrix(1,0,0,-1,0,23.880135852918485)\"><g><path fill-rule=\"evenodd\" fill=\"#66cc99\" stroke=\"#555555\" stroke-width=\"0.01734412447007088\" opacity=\"0.6\" d=\"M 37.23415140746536,12.237973129078355 L 37.17013071826253,12.341552289192364 L 37.00017231257854,12.289358814775795 L 36.84532311439162,12.023208276728496 L 36.995094474373445,11.777995546281275 L 37.26160172457767,11.758785162892309 L 37.24199753065557,11.614214124568974 L 37.43545013193835,11.538583563726121 L 37.64062345408192,12.006877197976465 L 37.55418223250388,12.324752512217557 L 37.36878564541385,12.317343519480445 L 37.23415140746536,12.237973129078355 z\" /></g></g></svg>"
      ],
      "text/plain": [
       "<GEOMETRYCOLLECTION (POLYGON ((37.234 12.238, 37.17 12.342, 37 12.289, 36.84...>"
      ]
     },
     "metadata": {},
     "output_type": "display_data"
    }
   ],
   "source": [
    "with open('Data/Lake_Tana.geojson','rb') as fid:\n",
    "    tanapoly=shapely.from_geojson(fid.read())\n",
    "\n",
    "display(tanapoly)"
   ]
  },
  {
   "cell_type": "markdown",
   "id": "01ad0de1-df6a-4807-acec-c3e199db8163",
   "metadata": {},
   "source": [
    "##### Create a connection manager for Dahiti"
   ]
  },
  {
   "cell_type": "code",
   "execution_count": 4,
   "id": "a6d8fabc-e6ac-4174-bd1c-63fa3b73cdae",
   "metadata": {},
   "outputs": [
    {
     "name": "stdin",
     "output_type": "stream",
     "text": [
      "Please input your Dahiti v2 API v2 key 48AC7C86A1CBCDBFBBCF27CE65BBC085F1BD29B3C7D4A664486449A33B0FD94F\n"
     ]
    }
   ],
   "source": [
    "# retrieve the current catalogue of station listings\n",
    "dacon=DahitiConnect()\n",
    "dahtargets=dacon.list_targets(tanapoly)"
   ]
  },
  {
   "cell_type": "code",
   "execution_count": 6,
   "id": "8c320c24-3625-4de1-b3d2-12fb6ea16863",
   "metadata": {},
   "outputs": [
    {
     "data": {
      "text/html": [
       "<div>\n",
       "<style scoped>\n",
       "    .dataframe tbody tr th:only-of-type {\n",
       "        vertical-align: middle;\n",
       "    }\n",
       "\n",
       "    .dataframe tbody tr th {\n",
       "        vertical-align: top;\n",
       "    }\n",
       "\n",
       "    .dataframe thead th {\n",
       "        text-align: right;\n",
       "    }\n",
       "</style>\n",
       "<table border=\"1\" class=\"dataframe\">\n",
       "  <thead>\n",
       "    <tr style=\"text-align: right;\">\n",
       "      <th></th>\n",
       "      <th>dahiti_id</th>\n",
       "      <th>target_name</th>\n",
       "      <th>location</th>\n",
       "      <th>continent</th>\n",
       "      <th>country</th>\n",
       "      <th>type</th>\n",
       "      <th>data_access</th>\n",
       "      <th>geometry</th>\n",
       "    </tr>\n",
       "  </thead>\n",
       "  <tbody>\n",
       "    <tr>\n",
       "      <th>0</th>\n",
       "      <td>110</td>\n",
       "      <td>Tana, Lake</td>\n",
       "      <td>None</td>\n",
       "      <td>Africa</td>\n",
       "      <td>Ethiopia</td>\n",
       "      <td>Lake</td>\n",
       "      <td>water_level_altimetry:public</td>\n",
       "      <td>POINT (37.30000 11.95000)</td>\n",
       "    </tr>\n",
       "  </tbody>\n",
       "</table>\n",
       "</div>"
      ],
      "text/plain": [
       "   dahiti_id target_name location continent   country  type  \\\n",
       "0        110  Tana, Lake     None    Africa  Ethiopia  Lake   \n",
       "\n",
       "                    data_access                   geometry  \n",
       "0  water_level_altimetry:public  POINT (37.30000 11.95000)  "
      ]
     },
     "metadata": {},
     "output_type": "display_data"
    },
    {
     "ename": "APILimitReached",
     "evalue": "Dahiti API rate limit reached {\"code\": 429, \"message\": \"You have reached the maximum number of allowed requests in last 24 hours (251 of 250 requests)\"}",
     "output_type": "error",
     "traceback": [
      "\u001b[0;31m---------------------------------------------------------------------------\u001b[0m",
      "\u001b[0;31mAPILimitReached\u001b[0m                           Traceback (most recent call last)",
      "Cell \u001b[0;32mIn[6], line 3\u001b[0m\n\u001b[1;32m      1\u001b[0m display(dahtargets)\n\u001b[1;32m      2\u001b[0m \u001b[38;5;66;03m#get the water level series\u001b[39;00m\n\u001b[0;32m----> 3\u001b[0m info,ds_dah_wl\u001b[38;5;241m=\u001b[39m\u001b[43mdacon\u001b[49m\u001b[38;5;241;43m.\u001b[39;49m\u001b[43mget_waterlevel\u001b[49m\u001b[43m(\u001b[49m\u001b[43mdahtargets\u001b[49m\u001b[43m[\u001b[49m\u001b[38;5;124;43m'\u001b[39;49m\u001b[38;5;124;43mdahiti_id\u001b[39;49m\u001b[38;5;124;43m'\u001b[39;49m\u001b[43m]\u001b[49m\u001b[43m[\u001b[49m\u001b[38;5;241;43m0\u001b[39;49m\u001b[43m]\u001b[49m\u001b[38;5;241;43m.\u001b[39;49m\u001b[43mitem\u001b[49m\u001b[43m(\u001b[49m\u001b[43m)\u001b[49m\u001b[43m)\u001b[49m\n",
      "File \u001b[0;32m~/UTwente/Soft/pyaltim/src/pyaltim/portals/dahiti.py:59\u001b[0m, in \u001b[0;36mDahitiConnect.get_waterlevel\u001b[0;34m(self, dah_id)\u001b[0m\n\u001b[1;32m     57\u001b[0m \u001b[38;5;28;01mdef\u001b[39;00m \u001b[38;5;21mget_waterlevel\u001b[39m(\u001b[38;5;28mself\u001b[39m,dah_id):\n\u001b[1;32m     58\u001b[0m     args\u001b[38;5;241m=\u001b[39m{\u001b[38;5;124m\"\u001b[39m\u001b[38;5;124mformat\u001b[39m\u001b[38;5;124m\"\u001b[39m:\u001b[38;5;124m\"\u001b[39m\u001b[38;5;124mjson\u001b[39m\u001b[38;5;124m\"\u001b[39m,\u001b[38;5;124m\"\u001b[39m\u001b[38;5;124mdahiti_id\u001b[39m\u001b[38;5;124m\"\u001b[39m:dah_id}\n\u001b[0;32m---> 59\u001b[0m     waterlevel\u001b[38;5;241m=\u001b[39m\u001b[38;5;28;43mself\u001b[39;49m\u001b[38;5;241;43m.\u001b[39;49m\u001b[43m_handle_resp\u001b[49m\u001b[43m(\u001b[49m\u001b[38;5;124;43m\"\u001b[39;49m\u001b[38;5;124;43mdownload-water-level\u001b[39;49m\u001b[38;5;124;43m\"\u001b[39;49m\u001b[43m,\u001b[49m\u001b[43margs\u001b[49m\u001b[43m)\u001b[49m\n\u001b[1;32m     60\u001b[0m     \u001b[38;5;28;01mif\u001b[39;00m \u001b[38;5;28mlen\u001b[39m(waterlevel[\u001b[38;5;124m'\u001b[39m\u001b[38;5;124mdata\u001b[39m\u001b[38;5;124m'\u001b[39m]) \u001b[38;5;241m==\u001b[39m \u001b[38;5;241m0\u001b[39m:\n\u001b[1;32m     61\u001b[0m         \u001b[38;5;28;01mraise\u001b[39;00m \u001b[38;5;167;01mRuntimeError\u001b[39;00m(\u001b[38;5;124m\"\u001b[39m\u001b[38;5;124mNo data found\u001b[39m\u001b[38;5;124m\"\u001b[39m)\n",
      "File \u001b[0;32m~/UTwente/Soft/pyaltim/src/pyaltim/portals/dahiti.py:89\u001b[0m, in \u001b[0;36mDahitiConnect._handle_resp\u001b[0;34m(self, apipath, args)\u001b[0m\n\u001b[1;32m     87\u001b[0m     \u001b[38;5;28;01mreturn\u001b[39;00m data\n\u001b[1;32m     88\u001b[0m \u001b[38;5;28;01melif\u001b[39;00m response\u001b[38;5;241m.\u001b[39mstatus_code \u001b[38;5;241m==\u001b[39m \u001b[38;5;241m429\u001b[39m:\n\u001b[0;32m---> 89\u001b[0m     \u001b[38;5;28;01mraise\u001b[39;00m APILimitReached(\u001b[38;5;124mf\u001b[39m\u001b[38;5;124m\"\u001b[39m\u001b[38;5;124mDahiti API rate limit reached \u001b[39m\u001b[38;5;132;01m{\u001b[39;00mresponse\u001b[38;5;241m.\u001b[39mtext\u001b[38;5;132;01m}\u001b[39;00m\u001b[38;5;124m\"\u001b[39m)\n\u001b[1;32m     90\u001b[0m \u001b[38;5;28;01melse\u001b[39;00m:\n\u001b[1;32m     92\u001b[0m     log\u001b[38;5;241m.\u001b[39mwarning(response\u001b[38;5;241m.\u001b[39mtext)\n",
      "\u001b[0;31mAPILimitReached\u001b[0m: Dahiti API rate limit reached {\"code\": 429, \"message\": \"You have reached the maximum number of allowed requests in last 24 hours (251 of 250 requests)\"}"
     ]
    }
   ],
   "source": [
    "display(dahtargets)\n",
    "#get the water level series\n",
    "info,ds_dah_wl=dacon.get_waterlevel(dahtargets['dahiti_id'][0].item())"
   ]
  },
  {
   "cell_type": "markdown",
   "id": "dbf53a84-273a-4b56-9dba-292a72ccbc4a",
   "metadata": {},
   "source": [
    "## Case: Ganges - Brahmaputra - Meghna (GBM) Confluence"
   ]
  },
  {
   "cell_type": "code",
   "execution_count": 12,
   "id": "a4409bf1-b2e5-4174-9284-a4ba3d019c47",
   "metadata": {
    "tags": []
   },
   "outputs": [
    {
     "data": {
      "image/svg+xml": [
       "<svg xmlns=\"http://www.w3.org/2000/svg\" xmlns:xlink=\"http://www.w3.org/1999/xlink\" width=\"100.0\" height=\"100.0\" viewBox=\"88.71527221509855 22.409851937611034 2.6618519705839674 2.358470410364653\" preserveAspectRatio=\"xMinYMin meet\"><g transform=\"matrix(1,0,0,-1,0,47.17817428558672)\"><g><path fill-rule=\"evenodd\" fill=\"#66cc99\" stroke=\"#555555\" stroke-width=\"0.05323703941167935\" opacity=\"0.6\" d=\"M 89.89518819124834,22.508439047632663 L 91.27853707566089,22.779599647779733 L 90.88679204287564,23.440160502694525 L 90.15634769836203,24.669735237954058 L 89.23415203771498,24.584420303508097 L 88.81385932512018,23.888627392512532 L 89.65852140449391,23.57485484490769 L 90.1196256250281,23.189080863576677 L 89.89518819124834,22.508439047632663 z\" /></g></g></svg>"
      ],
      "text/plain": [
       "<GEOMETRYCOLLECTION (POLYGON ((89.895 22.508, 91.279 22.78, 90.887 23.44, 90...>"
      ]
     },
     "metadata": {},
     "output_type": "display_data"
    }
   ],
   "source": [
    "with open('Data/GBM_Basin.geojson','rb') as fid:\n",
    "    gbmpoly=shapely.from_geojson(fid.read())\n",
    "\n",
    "display(gbmpoly)"
   ]
  },
  {
   "cell_type": "code",
   "execution_count": 13,
   "id": "5d8a7f97-86f2-4c1d-bcda-b1837015752e",
   "metadata": {
    "tags": []
   },
   "outputs": [
    {
     "ename": "APILimitReached",
     "evalue": "Dahiti API rate limit reached {\"code\": 429, \"message\": \"You have reached the maximum number of allowed requests in last 24 hours (251 of 250 requests)\"}",
     "output_type": "error",
     "traceback": [
      "\u001b[0;31m---------------------------------------------------------------------------\u001b[0m",
      "\u001b[0;31mAPILimitReached\u001b[0m                           Traceback (most recent call last)",
      "Cell \u001b[0;32mIn[13], line 1\u001b[0m\n\u001b[0;32m----> 1\u001b[0m gbmtargets\u001b[38;5;241m=\u001b[39m\u001b[43mdacon\u001b[49m\u001b[38;5;241;43m.\u001b[39;49m\u001b[43mlist_targets\u001b[49m\u001b[43m(\u001b[49m\u001b[43mgbmpoly\u001b[49m\u001b[43m)\u001b[49m\n\u001b[1;32m      2\u001b[0m display(gbmtargets)\n\u001b[1;32m      3\u001b[0m \u001b[38;5;66;03m#get the water level series\u001b[39;00m\n\u001b[1;32m      4\u001b[0m \u001b[38;5;66;03m# info,ds_dah_wl=dacon.get_waterlevel(dahtargets['dahiti_id'][0].item())\u001b[39;00m\n",
      "File \u001b[0;32m~/UTwente/Soft/pyaltim/src/pyaltim/portals/dahiti.py:37\u001b[0m, in \u001b[0;36mDahitiConnect.list_targets\u001b[0;34m(self, geom)\u001b[0m\n\u001b[1;32m     33\u001b[0m \u001b[38;5;28;01melse\u001b[39;00m:\n\u001b[1;32m     34\u001b[0m     \u001b[38;5;66;03m# restrict query based on bounding box\u001b[39;00m\n\u001b[1;32m     35\u001b[0m     args\u001b[38;5;241m=\u001b[39m{ky:geom\u001b[38;5;241m.\u001b[39mbounds[i] \u001b[38;5;28;01mfor\u001b[39;00m i,ky \u001b[38;5;129;01min\u001b[39;00m \u001b[38;5;28menumerate\u001b[39m([\u001b[38;5;124m'\u001b[39m\u001b[38;5;124mmin_lon\u001b[39m\u001b[38;5;124m'\u001b[39m,\u001b[38;5;124m'\u001b[39m\u001b[38;5;124mmin_lat\u001b[39m\u001b[38;5;124m'\u001b[39m,\u001b[38;5;124m'\u001b[39m\u001b[38;5;124mmax_lon\u001b[39m\u001b[38;5;124m'\u001b[39m,\u001b[38;5;124m'\u001b[39m\u001b[38;5;124mmax_lat\u001b[39m\u001b[38;5;124m'\u001b[39m])}\n\u001b[0;32m---> 37\u001b[0m targets\u001b[38;5;241m=\u001b[39m\u001b[38;5;28;43mself\u001b[39;49m\u001b[38;5;241;43m.\u001b[39;49m\u001b[43m_handle_resp\u001b[49m\u001b[43m(\u001b[49m\u001b[38;5;124;43m\"\u001b[39;49m\u001b[38;5;124;43mlist-targets\u001b[39;49m\u001b[38;5;124;43m\"\u001b[39;49m\u001b[43m,\u001b[49m\u001b[43margs\u001b[49m\u001b[43m)\u001b[49m[\u001b[38;5;124m'\u001b[39m\u001b[38;5;124mdata\u001b[39m\u001b[38;5;124m'\u001b[39m]\n\u001b[1;32m     38\u001b[0m exportkeys\u001b[38;5;241m=\u001b[39m[ky \u001b[38;5;28;01mfor\u001b[39;00m ky \u001b[38;5;129;01min\u001b[39;00m targets[\u001b[38;5;241m0\u001b[39m]\u001b[38;5;241m.\u001b[39mkeys() \u001b[38;5;28;01mif\u001b[39;00m ky \u001b[38;5;129;01mnot\u001b[39;00m \u001b[38;5;129;01min\u001b[39;00m [\u001b[38;5;124m'\u001b[39m\u001b[38;5;124mlongitude\u001b[39m\u001b[38;5;124m'\u001b[39m,\u001b[38;5;124m'\u001b[39m\u001b[38;5;124mlatitude\u001b[39m\u001b[38;5;124m'\u001b[39m,\u001b[38;5;124m'\u001b[39m\u001b[38;5;124mdata_access\u001b[39m\u001b[38;5;124m'\u001b[39m]]\n\u001b[1;32m     41\u001b[0m dfdict\u001b[38;5;241m=\u001b[39m{colky:[val[colky] \u001b[38;5;28;01mfor\u001b[39;00m val \u001b[38;5;129;01min\u001b[39;00m targets] \u001b[38;5;28;01mfor\u001b[39;00m colky \u001b[38;5;129;01min\u001b[39;00m exportkeys}\n",
      "File \u001b[0;32m~/UTwente/Soft/pyaltim/src/pyaltim/portals/dahiti.py:89\u001b[0m, in \u001b[0;36mDahitiConnect._handle_resp\u001b[0;34m(self, apipath, args)\u001b[0m\n\u001b[1;32m     87\u001b[0m     \u001b[38;5;28;01mreturn\u001b[39;00m data\n\u001b[1;32m     88\u001b[0m \u001b[38;5;28;01melif\u001b[39;00m response\u001b[38;5;241m.\u001b[39mstatus_code \u001b[38;5;241m==\u001b[39m \u001b[38;5;241m429\u001b[39m:\n\u001b[0;32m---> 89\u001b[0m     \u001b[38;5;28;01mraise\u001b[39;00m APILimitReached(\u001b[38;5;124mf\u001b[39m\u001b[38;5;124m\"\u001b[39m\u001b[38;5;124mDahiti API rate limit reached \u001b[39m\u001b[38;5;132;01m{\u001b[39;00mresponse\u001b[38;5;241m.\u001b[39mtext\u001b[38;5;132;01m}\u001b[39;00m\u001b[38;5;124m\"\u001b[39m)\n\u001b[1;32m     90\u001b[0m \u001b[38;5;28;01melse\u001b[39;00m:\n\u001b[1;32m     92\u001b[0m     log\u001b[38;5;241m.\u001b[39mwarning(response\u001b[38;5;241m.\u001b[39mtext)\n",
      "\u001b[0;31mAPILimitReached\u001b[0m: Dahiti API rate limit reached {\"code\": 429, \"message\": \"You have reached the maximum number of allowed requests in last 24 hours (251 of 250 requests)\"}"
     ]
    }
   ],
   "source": [
    "gbmtargets=dacon.list_targets(gbmpoly)\n",
    "display(gbmtargets)\n",
    "#get the water level series\n",
    "# info,ds_dah_wl=dacon.get_waterlevel(gbmtargets['dahiti_id'][0].item())"
   ]
  }
 ],
 "metadata": {
  "kernelspec": {
   "display_name": "pyalt",
   "language": "python",
   "name": "pyalt"
  },
  "language_info": {
   "codemirror_mode": {
    "name": "ipython",
    "version": 3
   },
   "file_extension": ".py",
   "mimetype": "text/x-python",
   "name": "python",
   "nbconvert_exporter": "python",
   "pygments_lexer": "ipython3",
   "version": "3.12.4"
  }
 },
 "nbformat": 4,
 "nbformat_minor": 5
}
