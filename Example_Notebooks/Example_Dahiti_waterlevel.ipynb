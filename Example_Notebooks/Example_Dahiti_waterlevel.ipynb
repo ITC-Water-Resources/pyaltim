{
 "cells": [
  {
   "cell_type": "code",
   "execution_count": 1,
   "id": "3a44d2c1-df0f-4167-9e35-3dfd276cf60c",
   "metadata": {},
   "outputs": [
    {
     "name": "stderr",
     "output_type": "stream",
     "text": [
      "/usr/lib/python3.12/site-packages/pyproj/__init__.py:91: UserWarning: Valid PROJ data directory not found. Either set the path using the environmental variable PROJ_DATA (PROJ 9.1+) | PROJ_LIB (PROJ<9.1) or with `pyproj.datadir.set_data_dir`.\n",
      "  warnings.warn(str(err))\n"
     ]
    }
   ],
   "source": [
    "from pyaltim.portals.dahiti import DahitiConnect\n",
    "import shapely"
   ]
  },
  {
   "cell_type": "markdown",
   "id": "d00758c6-3a13-4e07-9559-a8c01295554f",
   "metadata": {},
   "source": [
    "## Case: Lake Tana"
   ]
  },
  {
   "cell_type": "markdown",
   "id": "ffa73d8d-fa0d-4cfe-aa20-0210f6a3fa9b",
   "metadata": {},
   "source": [
    "##### Load the polygon for Lake Tana as a shapely object\n",
    "A Geojson file of any area can be developed using this webapp: https://geojson.io/#map=9.35/24.5561/89.6891"
   ]
  },
  {
   "cell_type": "code",
   "execution_count": 2,
   "id": "7e7ddb68-37d6-49d8-9f8d-fd7f6213eeb3",
   "metadata": {
    "tags": []
   },
   "outputs": [
    {
     "data": {
      "image/svg+xml": [
       "<svg xmlns=\"http://www.w3.org/2000/svg\" xmlns:xlink=\"http://www.w3.org/1999/xlink\" width=\"100.0\" height=\"100.0\" viewBox=\"36.81320436537297 11.50646481470747 0.8595378377276006 0.867206223503544\" preserveAspectRatio=\"xMinYMin meet\"><g transform=\"matrix(1,0,0,-1,0,23.880135852918485)\"><g><path fill-rule=\"evenodd\" fill=\"#66cc99\" stroke=\"#555555\" stroke-width=\"0.01734412447007088\" opacity=\"0.6\" d=\"M 37.23415140746536,12.237973129078355 L 37.17013071826253,12.341552289192364 L 37.00017231257854,12.289358814775795 L 36.84532311439162,12.023208276728496 L 36.995094474373445,11.777995546281275 L 37.26160172457767,11.758785162892309 L 37.24199753065557,11.614214124568974 L 37.43545013193835,11.538583563726121 L 37.64062345408192,12.006877197976465 L 37.55418223250388,12.324752512217557 L 37.36878564541385,12.317343519480445 L 37.23415140746536,12.237973129078355 z\" /></g></g></svg>"
      ],
      "text/plain": [
       "<GEOMETRYCOLLECTION (POLYGON ((37.234 12.238, 37.17 12.342, 37 12.289, 36.84...>"
      ]
     },
     "metadata": {},
     "output_type": "display_data"
    }
   ],
   "source": [
    "with open('Data/Lake_Tana.geojson','rb') as fid:\n",
    "    tanapoly=shapely.from_geojson(fid.read())\n",
    "\n",
    "display(tanapoly)"
   ]
  },
  {
   "cell_type": "markdown",
   "id": "01ad0de1-df6a-4807-acec-c3e199db8163",
   "metadata": {},
   "source": [
    "##### Create a connection manager for Dahiti"
   ]
  },
  {
   "cell_type": "code",
   "execution_count": 3,
   "id": "a6d8fabc-e6ac-4174-bd1c-63fa3b73cdae",
   "metadata": {},
   "outputs": [
    {
     "name": "stdin",
     "output_type": "stream",
     "text": [
      "Please input your Dahiti v2 API v2 key ········\n"
     ]
    }
   ],
   "source": [
    "# retrieve the current catalogue of station listings\n",
    "dacon=DahitiConnect()\n",
    "dahtargets=dacon.list_targets(tanapoly)"
   ]
  },
  {
   "cell_type": "code",
   "execution_count": null,
   "id": "8c320c24-3625-4de1-b3d2-12fb6ea16863",
   "metadata": {},
   "outputs": [],
   "source": [
    "display(dahtargets)\n",
    "#get the water level series\n",
    "info,ds_dah_wl=dacon.get_waterlevel(dahtargets['dahiti_id'][0].item())"
   ]
  },
  {
   "cell_type": "markdown",
   "id": "dbf53a84-273a-4b56-9dba-292a72ccbc4a",
   "metadata": {},
   "source": [
    "## Case: Ganges - Brahmaputra - Meghna (GBM) Confluence"
   ]
  },
  {
   "cell_type": "code",
   "execution_count": null,
   "id": "a4409bf1-b2e5-4174-9284-a4ba3d019c47",
   "metadata": {
    "tags": []
   },
   "outputs": [],
   "source": [
    "with open('Data/GBM_Basin.geojson','rb') as fid:\n",
    "    gbmpoly=shapely.from_geojson(fid.read())\n",
    "\n",
    "display(gbmpoly)"
   ]
  },
  {
   "cell_type": "code",
   "execution_count": null,
   "id": "5d8a7f97-86f2-4c1d-bcda-b1837015752e",
   "metadata": {
    "tags": []
   },
   "outputs": [],
   "source": [
    "gbmtargets=dacon.list_targets(gbmpoly)\n",
    "display(gbmtargets)\n",
    "#get the water level series\n",
    "# info,ds_dah_wl=dacon.get_waterlevel(gbmtargets['dahiti_id'][0].item())"
   ]
  }
 ],
 "metadata": {
  "kernelspec": {
   "display_name": "pyalt",
   "language": "python",
   "name": "pyalt"
  },
  "language_info": {
   "codemirror_mode": {
    "name": "ipython",
    "version": 3
   },
   "file_extension": ".py",
   "mimetype": "text/x-python",
   "name": "python",
   "nbconvert_exporter": "python",
   "pygments_lexer": "ipython3",
   "version": "3.12.4"
  }
 },
 "nbformat": 4,
 "nbformat_minor": 5
}
